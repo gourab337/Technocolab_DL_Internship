{
  "nbformat": 4,
  "nbformat_minor": 0,
  "metadata": {
    "kernelspec": {
      "display_name": "Python 3",
      "language": "python",
      "name": "python3"
    },
    "language_info": {
      "codemirror_mode": {
        "name": "ipython",
        "version": 3
      },
      "file_extension": ".py",
      "mimetype": "text/x-python",
      "name": "python",
      "nbconvert_exporter": "python",
      "pygments_lexer": "ipython3",
      "version": "3.6.6"
    },
    "colab": {
      "name": "Activity_5_Assembling_a_Deep_Learning_System.ipynb",
      "provenance": [],
      "toc_visible": true,
      "include_colab_link": true
    }
  },
  "cells": [
    {
      "cell_type": "markdown",
      "metadata": {
        "id": "view-in-github",
        "colab_type": "text"
      },
      "source": [
        "<a href=\"https://colab.research.google.com/github/gourab337/Technocolab_DL_Internship/blob/imgbot/Activity_5_Assembling_a_Deep_Learning_System.ipynb\" target=\"_parent\"><img src=\"https://colab.research.google.com/assets/colab-badge.svg\" alt=\"Open In Colab\"/></a>"
      ]
    },
    {
      "cell_type": "markdown",
      "metadata": {
        "id": "bZDjsiWUWXI1"
      },
      "source": [
        "# Activity 5: Assembling a Deep Learning System\n",
        "In this activity, we will train the first version of our LSTM model using Bitcoin daily closing prices. These prices will be organized using the weeks of both 2016 and 2017. We do that because we are interested in predicting the prices of a week's worth of trading."
      ]
    },
    {
      "cell_type": "code",
      "metadata": {
        "id": "YMXe2sqRWXI2",
        "outputId": "27ea6b9d-bfb0-4f78-ea23-22994d4b4c51",
        "colab": {
          "base_uri": "https://localhost:8080/",
          "height": 34
        }
      },
      "source": [
        "%autosave 5\n",
        "\n",
        "#  Import necessary libraries\n",
        "import numpy as np\n",
        "import pandas as pd\n",
        "import matplotlib.pyplot as plt\n",
        "%matplotlib inline\n",
        "plt.style.use('seaborn-white')\n",
        "\n",
        "from keras.models import load_model"
      ],
      "execution_count": null,
      "outputs": [
        {
          "output_type": "display_data",
          "data": {
            "application/javascript": [
              "IPython.notebook.set_autosave_interval(5000)"
            ]
          },
          "metadata": {
            "tags": []
          }
        },
        {
          "output_type": "stream",
          "text": [
            "Autosaving every 5 seconds\n"
          ],
          "name": "stdout"
        }
      ]
    },
    {
      "cell_type": "code",
      "metadata": {
        "id": "JrMLH0uXWXI5",
        "outputId": "d0574272-2615-42d2-b0a3-321317defd84",
        "colab": {
          "base_uri": "https://localhost:8080/",
          "height": 204
        }
      },
      "source": [
        "#  Import training dataset\n",
        "train = pd.read_csv('train_dataset.csv')\n",
        "train.head()"
      ],
      "execution_count": null,
      "outputs": [
        {
          "output_type": "execute_result",
          "data": {
            "text/html": [
              "<div>\n",
              "<style scoped>\n",
              "    .dataframe tbody tr th:only-of-type {\n",
              "        vertical-align: middle;\n",
              "    }\n",
              "\n",
              "    .dataframe tbody tr th {\n",
              "        vertical-align: top;\n",
              "    }\n",
              "\n",
              "    .dataframe thead th {\n",
              "        text-align: right;\n",
              "    }\n",
              "</style>\n",
              "<table border=\"1\" class=\"dataframe\">\n",
              "  <thead>\n",
              "    <tr style=\"text-align: right;\">\n",
              "      <th></th>\n",
              "      <th>date</th>\n",
              "      <th>iso_week</th>\n",
              "      <th>close</th>\n",
              "      <th>volume</th>\n",
              "      <th>close_point_relative_normalization</th>\n",
              "    </tr>\n",
              "  </thead>\n",
              "  <tbody>\n",
              "    <tr>\n",
              "      <th>0</th>\n",
              "      <td>2016-01-01</td>\n",
              "      <td>2016-00</td>\n",
              "      <td>434.33</td>\n",
              "      <td>36278900.0</td>\n",
              "      <td>0.000000</td>\n",
              "    </tr>\n",
              "    <tr>\n",
              "      <th>1</th>\n",
              "      <td>2016-01-02</td>\n",
              "      <td>2016-00</td>\n",
              "      <td>433.44</td>\n",
              "      <td>30096600.0</td>\n",
              "      <td>-0.002049</td>\n",
              "    </tr>\n",
              "    <tr>\n",
              "      <th>2</th>\n",
              "      <td>2016-01-03</td>\n",
              "      <td>2016-01</td>\n",
              "      <td>430.01</td>\n",
              "      <td>39633800.0</td>\n",
              "      <td>0.000000</td>\n",
              "    </tr>\n",
              "    <tr>\n",
              "      <th>3</th>\n",
              "      <td>2016-01-04</td>\n",
              "      <td>2016-01</td>\n",
              "      <td>433.09</td>\n",
              "      <td>38477500.0</td>\n",
              "      <td>0.007163</td>\n",
              "    </tr>\n",
              "    <tr>\n",
              "      <th>4</th>\n",
              "      <td>2016-01-05</td>\n",
              "      <td>2016-01</td>\n",
              "      <td>431.96</td>\n",
              "      <td>34522600.0</td>\n",
              "      <td>0.004535</td>\n",
              "    </tr>\n",
              "  </tbody>\n",
              "</table>\n",
              "</div>"
            ],
            "text/plain": [
              "         date iso_week   close      volume  close_point_relative_normalization\n",
              "0  2016-01-01  2016-00  434.33  36278900.0                            0.000000\n",
              "1  2016-01-02  2016-00  433.44  30096600.0                           -0.002049\n",
              "2  2016-01-03  2016-01  430.01  39633800.0                            0.000000\n",
              "3  2016-01-04  2016-01  433.09  38477500.0                            0.007163\n",
              "4  2016-01-05  2016-01  431.96  34522600.0                            0.004535"
            ]
          },
          "metadata": {
            "tags": []
          },
          "execution_count": 2
        }
      ]
    },
    {
      "cell_type": "markdown",
      "metadata": {
        "id": "cyXVLuqSWXI8"
      },
      "source": [
        "## Reshape Data"
      ]
    },
    {
      "cell_type": "code",
      "metadata": {
        "id": "7ZHmwxUUWXI9"
      },
      "source": [
        "def create_groups(data, group_size=7):\n",
        "    \"\"\"Create distinct groups from a continuous series.\n",
        "    \n",
        "    Parameters\n",
        "    ----------\n",
        "    data: np.array\n",
        "        Series of continious observations.\n",
        "\n",
        "    group_size: int, default 7\n",
        "        Determines how large the groups are. That is,\n",
        "        how many observations each group contains.\n",
        "    \n",
        "    Returns\n",
        "    -------\n",
        "    A Numpy array object. \n",
        "    \"\"\"\n",
        "    samples = []\n",
        "    for i in range(0, len(data), group_size):\n",
        "        sample = list(data[i:i + group_size])\n",
        "        if len(sample) == group_size:\n",
        "            samples.append(np.array(sample).reshape(1, group_size))\n",
        "    \n",
        "    return np.array(samples)"
      ],
      "execution_count": null,
      "outputs": []
    },
    {
      "cell_type": "code",
      "metadata": {
        "id": "bXZ2zi3VWXI_",
        "outputId": "65ecaaec-84a8-490a-d3cb-c48a7027fce1",
        "colab": {
          "base_uri": "https://localhost:8080/",
          "height": 34
        }
      },
      "source": [
        "#  Find the remainder when the number of observations is divided by group size\n",
        "len(train) % 7"
      ],
      "execution_count": null,
      "outputs": [
        {
          "output_type": "execute_result",
          "data": {
            "text/plain": [
              "2"
            ]
          },
          "metadata": {
            "tags": []
          },
          "execution_count": 4
        }
      ]
    },
    {
      "cell_type": "code",
      "metadata": {
        "id": "FxZAs_OeWXJC",
        "outputId": "094c3eb3-0b42-4383-ef2b-4ca08f96696a",
        "colab": {
          "base_uri": "https://localhost:8080/",
          "height": 34
        }
      },
      "source": [
        "#  Create groups of 7 from our data.\n",
        "#  We drop the first two observations so that the\n",
        "#  number of total observations is divisible by the `group_size`.\n",
        "data = create_groups(train['close_point_relative_normalization'][2:].values)\n",
        "print(data.shape)"
      ],
      "execution_count": null,
      "outputs": [
        {
          "output_type": "stream",
          "text": [
            "(77, 1, 7)\n"
          ],
          "name": "stdout"
        }
      ]
    },
    {
      "cell_type": "code",
      "metadata": {
        "id": "pn20PKoDWXJE",
        "outputId": "11c22c6a-9fff-4452-92cd-603fdb037744",
        "colab": {
          "base_uri": "https://localhost:8080/",
          "height": 51
        }
      },
      "source": [
        "#  Reshape data into format expected by LSTM layer\n",
        "X_train = data[:-1, :].reshape(1, 76, 7)\n",
        "Y_validation = data[-1].reshape(1, 7)\n",
        "print(X_train.shape)\n",
        "print(Y_validation.shape)"
      ],
      "execution_count": null,
      "outputs": [
        {
          "output_type": "stream",
          "text": [
            "(1, 76, 7)\n",
            "(1, 7)\n"
          ],
          "name": "stdout"
        }
      ]
    },
    {
      "cell_type": "markdown",
      "metadata": {
        "id": "DGKPK7nsWXJH"
      },
      "source": [
        "## Load Our Model"
      ]
    },
    {
      "cell_type": "code",
      "metadata": {
        "id": "xzUr9VFPWXJH"
      },
      "source": [
        "#  Load our previously trained model \n",
        "model = load_model('bitcoin_lstm_v0.h5')"
      ],
      "execution_count": null,
      "outputs": []
    },
    {
      "cell_type": "markdown",
      "metadata": {
        "id": "bmlQDww_WXJK"
      },
      "source": [
        "## Train model"
      ]
    },
    {
      "cell_type": "code",
      "metadata": {
        "scrolled": true,
        "id": "-8hjomxaWXJK",
        "outputId": "0712981b-900e-4682-dc15-0fc54e988459",
        "colab": {
          "base_uri": "https://localhost:8080/",
          "height": 1000
        }
      },
      "source": [
        "%%time\n",
        "#  Train the model\n",
        "history = model.fit(\n",
        "    x=X_train, y=Y_validation,\n",
        "    batch_size=32, epochs=100)"
      ],
      "execution_count": null,
      "outputs": [
        {
          "output_type": "stream",
          "text": [
            "Epoch 1/100\n",
            "1/1 [==============================] - 0s 2ms/step - loss: 0.0021\n",
            "Epoch 2/100\n",
            "1/1 [==============================] - 0s 1ms/step - loss: 0.0012\n",
            "Epoch 3/100\n",
            "1/1 [==============================] - 0s 1ms/step - loss: 8.6824e-04\n",
            "Epoch 4/100\n",
            "1/1 [==============================] - 0s 1ms/step - loss: 6.4275e-04\n",
            "Epoch 5/100\n",
            "1/1 [==============================] - 0s 1ms/step - loss: 4.9442e-04\n",
            "Epoch 6/100\n",
            "1/1 [==============================] - 0s 1ms/step - loss: 3.9122e-04\n",
            "Epoch 7/100\n",
            "1/1 [==============================] - 0s 905us/step - loss: 3.1609e-04\n",
            "Epoch 8/100\n",
            "1/1 [==============================] - 0s 1ms/step - loss: 2.5921e-04\n",
            "Epoch 9/100\n",
            "1/1 [==============================] - 0s 1ms/step - loss: 2.1469e-04\n",
            "Epoch 10/100\n",
            "1/1 [==============================] - 0s 1ms/step - loss: 1.7894e-04\n",
            "Epoch 11/100\n",
            "1/1 [==============================] - 0s 1ms/step - loss: 1.4969e-04\n",
            "Epoch 12/100\n",
            "1/1 [==============================] - 0s 1ms/step - loss: 1.2544e-04\n",
            "Epoch 13/100\n",
            "1/1 [==============================] - 0s 1ms/step - loss: 1.0517e-04\n",
            "Epoch 14/100\n",
            "1/1 [==============================] - 0s 1ms/step - loss: 8.8127e-05\n",
            "Epoch 15/100\n",
            "1/1 [==============================] - 0s 1ms/step - loss: 7.3755e-05\n",
            "Epoch 16/100\n",
            "1/1 [==============================] - 0s 1ms/step - loss: 6.1611e-05\n",
            "Epoch 17/100\n",
            "1/1 [==============================] - 0s 1ms/step - loss: 5.1337e-05\n",
            "Epoch 18/100\n",
            "1/1 [==============================] - 0s 1ms/step - loss: 4.2641e-05\n",
            "Epoch 19/100\n",
            "1/1 [==============================] - 0s 1ms/step - loss: 3.5282e-05\n",
            "Epoch 20/100\n",
            "1/1 [==============================] - 0s 2ms/step - loss: 2.9059e-05\n",
            "Epoch 21/100\n",
            "1/1 [==============================] - 0s 1ms/step - loss: 2.3806e-05\n",
            "Epoch 22/100\n",
            "1/1 [==============================] - 0s 1ms/step - loss: 1.9381e-05\n",
            "Epoch 23/100\n",
            "1/1 [==============================] - 0s 2ms/step - loss: 1.5668e-05\n",
            "Epoch 24/100\n",
            "1/1 [==============================] - 0s 1ms/step - loss: 1.2566e-05\n",
            "Epoch 25/100\n",
            "1/1 [==============================] - 0s 2ms/step - loss: 9.9897e-06\n",
            "Epoch 26/100\n",
            "1/1 [==============================] - 0s 2ms/step - loss: 7.8643e-06\n",
            "Epoch 27/100\n",
            "1/1 [==============================] - 0s 2ms/step - loss: 6.1251e-06\n",
            "Epoch 28/100\n",
            "1/1 [==============================] - 0s 1ms/step - loss: 4.7152e-06\n",
            "Epoch 29/100\n",
            "1/1 [==============================] - 0s 1ms/step - loss: 3.5841e-06\n",
            "Epoch 30/100\n",
            "1/1 [==============================] - 0s 2ms/step - loss: 2.6872e-06\n",
            "Epoch 31/100\n",
            "1/1 [==============================] - 0s 1ms/step - loss: 1.9851e-06\n",
            "Epoch 32/100\n",
            "1/1 [==============================] - 0s 1ms/step - loss: 1.4433e-06\n",
            "Epoch 33/100\n",
            "1/1 [==============================] - 0s 1ms/step - loss: 1.0315e-06\n",
            "Epoch 34/100\n",
            "1/1 [==============================] - 0s 1ms/step - loss: 7.2377e-07\n",
            "Epoch 35/100\n",
            "1/1 [==============================] - 0s 2ms/step - loss: 4.9792e-07\n",
            "Epoch 36/100\n",
            "1/1 [==============================] - 0s 1ms/step - loss: 3.3537e-07\n",
            "Epoch 37/100\n",
            "1/1 [==============================] - 0s 1ms/step - loss: 2.2082e-07\n",
            "Epoch 38/100\n",
            "1/1 [==============================] - 0s 1ms/step - loss: 1.4190e-07\n",
            "Epoch 39/100\n",
            "1/1 [==============================] - 0s 1ms/step - loss: 8.8850e-08\n",
            "Epoch 40/100\n",
            "1/1 [==============================] - 0s 1ms/step - loss: 5.4101e-08\n",
            "Epoch 41/100\n",
            "1/1 [==============================] - 0s 1ms/step - loss: 3.1978e-08\n",
            "Epoch 42/100\n",
            "1/1 [==============================] - 0s 1ms/step - loss: 1.8360e-08\n",
            "Epoch 43/100\n",
            "1/1 [==============================] - 0s 1ms/step - loss: 1.0784e-08\n",
            "Epoch 44/100\n",
            "1/1 [==============================] - 0s 1ms/step - loss: 1.3439e-08\n",
            "Epoch 45/100\n",
            "1/1 [==============================] - 0s 1ms/step - loss: 1.0705e-07\n",
            "Epoch 46/100\n",
            "1/1 [==============================] - 0s 1ms/step - loss: 8.6728e-07\n",
            "Epoch 47/100\n",
            "1/1 [==============================] - 0s 1ms/step - loss: 2.1703e-06\n",
            "Epoch 48/100\n",
            "1/1 [==============================] - 0s 1ms/step - loss: 4.4795e-06\n",
            "Epoch 49/100\n",
            "1/1 [==============================] - 0s 1ms/step - loss: 1.1381e-05\n",
            "Epoch 50/100\n",
            "1/1 [==============================] - 0s 2ms/step - loss: 2.0348e-05\n",
            "Epoch 51/100\n",
            "1/1 [==============================] - 0s 1ms/step - loss: 1.5659e-05\n",
            "Epoch 52/100\n",
            "1/1 [==============================] - 0s 4ms/step - loss: 8.9565e-06\n",
            "Epoch 53/100\n",
            "1/1 [==============================] - 0s 961us/step - loss: 4.0858e-06\n",
            "Epoch 54/100\n",
            "1/1 [==============================] - 0s 1ms/step - loss: 2.2262e-06\n",
            "Epoch 55/100\n",
            "1/1 [==============================] - 0s 1ms/step - loss: 1.3340e-06\n",
            "Epoch 56/100\n",
            "1/1 [==============================] - 0s 1ms/step - loss: 9.9596e-07\n",
            "Epoch 57/100\n",
            "1/1 [==============================] - 0s 1ms/step - loss: 8.6345e-07\n",
            "Epoch 58/100\n",
            "1/1 [==============================] - 0s 2ms/step - loss: 9.1426e-07\n",
            "Epoch 59/100\n",
            "1/1 [==============================] - 0s 1ms/step - loss: 1.1132e-06\n",
            "Epoch 60/100\n",
            "1/1 [==============================] - 0s 1ms/step - loss: 1.5999e-06\n",
            "Epoch 61/100\n",
            "1/1 [==============================] - 0s 1ms/step - loss: 2.5136e-06\n",
            "Epoch 62/100\n",
            "1/1 [==============================] - 0s 2ms/step - loss: 4.3093e-06\n",
            "Epoch 63/100\n",
            "1/1 [==============================] - 0s 1ms/step - loss: 6.9374e-06\n",
            "Epoch 64/100\n",
            "1/1 [==============================] - 0s 1ms/step - loss: 1.0053e-05\n",
            "Epoch 65/100\n",
            "1/1 [==============================] - 0s 1ms/step - loss: 1.0629e-05\n",
            "Epoch 66/100\n",
            "1/1 [==============================] - 0s 1ms/step - loss: 9.4666e-06\n",
            "Epoch 67/100\n",
            "1/1 [==============================] - 0s 1ms/step - loss: 6.5955e-06\n",
            "Epoch 68/100\n",
            "1/1 [==============================] - 0s 1ms/step - loss: 4.7715e-06\n",
            "Epoch 69/100\n",
            "1/1 [==============================] - 0s 1ms/step - loss: 3.3505e-06\n",
            "Epoch 70/100\n",
            "1/1 [==============================] - 0s 2ms/step - loss: 2.7115e-06\n",
            "Epoch 71/100\n",
            "1/1 [==============================] - 0s 2ms/step - loss: 2.3343e-06\n",
            "Epoch 72/100\n",
            "1/1 [==============================] - 0s 1ms/step - loss: 2.3416e-06\n",
            "Epoch 73/100\n",
            "1/1 [==============================] - 0s 1ms/step - loss: 2.5198e-06\n",
            "Epoch 74/100\n",
            "1/1 [==============================] - 0s 1ms/step - loss: 3.0698e-06\n",
            "Epoch 75/100\n",
            "1/1 [==============================] - 0s 2ms/step - loss: 3.8329e-06\n",
            "Epoch 76/100\n",
            "1/1 [==============================] - 0s 2ms/step - loss: 5.0694e-06\n",
            "Epoch 77/100\n",
            "1/1 [==============================] - 0s 2ms/step - loss: 6.2060e-06\n",
            "Epoch 78/100\n",
            "1/1 [==============================] - 0s 2ms/step - loss: 7.3493e-06\n",
            "Epoch 79/100\n",
            "1/1 [==============================] - 0s 2ms/step - loss: 7.3142e-06\n",
            "Epoch 80/100\n",
            "1/1 [==============================] - 0s 2ms/step - loss: 6.9694e-06\n",
            "Epoch 81/100\n",
            "1/1 [==============================] - 0s 1ms/step - loss: 5.7634e-06\n",
            "Epoch 82/100\n",
            "1/1 [==============================] - 0s 1ms/step - loss: 4.9535e-06\n",
            "Epoch 83/100\n",
            "1/1 [==============================] - 0s 2ms/step - loss: 4.0646e-06\n",
            "Epoch 84/100\n",
            "1/1 [==============================] - 0s 1ms/step - loss: 3.6772e-06\n",
            "Epoch 85/100\n",
            "1/1 [==============================] - 0s 1ms/step - loss: 3.3596e-06\n",
            "Epoch 86/100\n",
            "1/1 [==============================] - 0s 1ms/step - loss: 3.4236e-06\n",
            "Epoch 87/100\n",
            "1/1 [==============================] - 0s 1ms/step - loss: 3.5440e-06\n",
            "Epoch 88/100\n",
            "1/1 [==============================] - 0s 1ms/step - loss: 4.0061e-06\n",
            "Epoch 89/100\n",
            "1/1 [==============================] - 0s 1ms/step - loss: 4.4465e-06\n",
            "Epoch 90/100\n",
            "1/1 [==============================] - 0s 1ms/step - loss: 5.1608e-06\n",
            "Epoch 91/100\n",
            "1/1 [==============================] - 0s 1ms/step - loss: 5.5549e-06\n",
            "Epoch 92/100\n",
            "1/1 [==============================] - 0s 1ms/step - loss: 6.0098e-06\n",
            "Epoch 93/100\n",
            "1/1 [==============================] - 0s 1ms/step - loss: 5.8186e-06\n",
            "Epoch 94/100\n",
            "1/1 [==============================] - 0s 2ms/step - loss: 5.6842e-06\n",
            "Epoch 95/100\n",
            "1/1 [==============================] - 0s 1ms/step - loss: 5.0732e-06\n",
            "Epoch 96/100\n",
            "1/1 [==============================] - 0s 1ms/step - loss: 4.7446e-06\n",
            "Epoch 97/100\n",
            "1/1 [==============================] - 0s 2ms/step - loss: 4.2423e-06\n",
            "Epoch 98/100\n",
            "1/1 [==============================] - 0s 1ms/step - loss: 4.0934e-06\n",
            "Epoch 99/100\n",
            "1/1 [==============================] - 0s 1ms/step - loss: 3.8857e-06\n",
            "Epoch 100/100\n",
            "1/1 [==============================] - 0s 1ms/step - loss: 4.0018e-06\n",
            "CPU times: user 3.08 s, sys: 203 ms, total: 3.28 s\n",
            "Wall time: 3.41 s\n"
          ],
          "name": "stdout"
        }
      ]
    },
    {
      "cell_type": "code",
      "metadata": {
        "id": "mvHY2r1VWXJM",
        "outputId": "a3c5dfe6-c0d3-4995-fee0-9a385bcbb032",
        "colab": {
          "base_uri": "https://localhost:8080/",
          "height": 227
        }
      },
      "source": [
        "#  Plot loss function\n",
        "pd.Series(history.history['loss']).plot(figsize=(14, 4));"
      ],
      "execution_count": null,
      "outputs": [
        {
          "output_type": "display_data",
          "data": {
            "image/png": "[encoded data removed]",
            "text/plain": [
              "<Figure size 1008x288 with 1 Axes>"
            ]
          },
          "metadata": {
            "tags": [],
            "needs_background": "light"
          }
        }
      ]
    },
    {
      "cell_type": "markdown",
      "metadata": {
        "id": "FDIN2eG5WXJP"
      },
      "source": [
        "## Make Predictions"
      ]
    },
    {
      "cell_type": "code",
      "metadata": {
        "id": "3H_OIOWdWXJP",
        "outputId": "965b798e-741d-4e9b-b718-96816ebe06c4",
        "colab": {
          "base_uri": "https://localhost:8080/",
          "height": 51
        }
      },
      "source": [
        "#  Make predictions using X_train data\n",
        "predictions = model.predict(x=X_train)[0]\n",
        "predictions"
      ],
      "execution_count": null,
      "outputs": [
        {
          "output_type": "execute_result",
          "data": {
            "text/plain": [
              "array([0.00078467, 0.01416842, 0.07059313, 0.05714398, 0.06469832,\n",
              "       0.07916699, 0.02303265], dtype=float32)"
            ]
          },
          "metadata": {
            "tags": []
          },
          "execution_count": 10
        }
      ]
    },
    {
      "cell_type": "code",
      "metadata": {
        "id": "zvNI8ySiWXJR"
      },
      "source": [
        "def denormalize(series, last_value):\n",
        "    \"\"\"Denormalize the values for a given series.\n",
        "    \n",
        "    This uses the last value available (i.e. the last\n",
        "    closing price of the week before our prediction)\n",
        "    as a reference for scaling the predicted results.\n",
        "    \"\"\"\n",
        "    result = last_value * (series + 1)\n",
        "    return result"
      ],
      "execution_count": null,
      "outputs": []
    },
    {
      "cell_type": "code",
      "metadata": {
        "id": "KdlFX5sPWXJT",
        "outputId": "1df36ab1-c32d-4972-b3fb-dabd4fa49562",
        "colab": {
          "base_uri": "https://localhost:8080/",
          "height": 51
        }
      },
      "source": [
        "#  Denormalize predictions\n",
        "last_weeks_value = train[train['date'] == train['date'][:-7].max()]['close'].values[0]\n",
        "\n",
        "denormalized_prediction = denormalize(predictions, last_weeks_value)\n",
        "denormalized_prediction"
      ],
      "execution_count": null,
      "outputs": [
        {
          "output_type": "execute_result",
          "data": {
            "text/plain": [
              "array([2657.9639, 2693.5095, 2843.3667, 2807.6472, 2827.711 , 2866.138 ,\n",
              "       2717.0518], dtype=float32)"
            ]
          },
          "metadata": {
            "tags": []
          },
          "execution_count": 12
        }
      ]
    },
    {
      "cell_type": "code",
      "metadata": {
        "id": "DuP24A_FWXJV",
        "outputId": "401dd2f6-283e-4cac-d46c-2976c443bce7",
        "colab": {
          "base_uri": "https://localhost:8080/",
          "height": 229
        }
      },
      "source": [
        "#  Plot denormalized predictions against actual predictions\n",
        "plt.figure(figsize=(14, 4))\n",
        "\n",
        "plt.plot(train['close'][-7:].values, label='Actual')\n",
        "plt.plot(denormalized_prediction, color='#d35400', label='Predicted')\n",
        "\n",
        "plt.grid()\n",
        "plt.legend();"
      ],
      "execution_count": null,
      "outputs": [
        {
          "output_type": "display_data",
          "data": {
            "image/png": "[encoded data removed]",
            "text/plain": [
              "<Figure size 1008x288 with 1 Axes>"
            ]
          },
          "metadata": {
            "tags": [],
            "needs_background": "light"
          }
        }
      ]
    },
    {
      "cell_type": "code",
      "metadata": {
        "id": "3SaTRyWFWXJX",
        "outputId": "045c710c-b736-4d46-acbd-7dea9f95ef2e",
        "colab": {
          "base_uri": "https://localhost:8080/",
          "height": 232
        }
      },
      "source": [
        "prediction_plot = np.zeros(len(train)-2)\n",
        "prediction_plot[:] = np.nan\n",
        "prediction_plot[-7:] = denormalized_prediction\n",
        "\n",
        "plt.figure(figsize=(14, 4))\n",
        "plt.plot(train['close'][-30:].values, label='Actual')\n",
        "plt.plot(prediction_plot[-30:], color='#d35400', linestyle='--', label='Predicted')\n",
        "plt.axvline(30 - 7, color='r', linestyle='--', linewidth=1)\n",
        "\n",
        "plt.grid()\n",
        "plt.legend(loc='lower right');"
      ],
      "execution_count": null,
      "outputs": [
        {
          "output_type": "display_data",
          "data": {
            "image/png": "[encoded data removed]",
            "text/plain": [
              "<Figure size 1008x288 with 1 Axes>"
            ]
          },
          "metadata": {
            "tags": [],
            "needs_background": "light"
          }
        }
      ]
    },
    {
      "cell_type": "code",
      "metadata": {
        "eid": "8ce0c2",
        "id": "GkJAYsHmWXJZ"
      },
      "source": [
        "#  TASK:\n",
        "#  Save model to disk\n",
        "#\n",
        "model.save('bitcoin_lstm_v0_trained.h5')"
      ],
      "execution_count": null,
      "outputs": []
    },
    {
      "cell_type": "markdown",
      "metadata": {
        "id": "lHUZ1BvfWXJb"
      },
      "source": [
        "In this activity, we have assembled a complete deep learning system: from data to prediction. The model created in this activity need a number of improvements before it can be considered useful. However, it serves as a great starting point from which we will continuously improve."
      ]
    }
  ]
}