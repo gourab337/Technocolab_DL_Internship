{
  "nbformat": 4,
  "nbformat_minor": 0,
  "metadata": {
    "kernelspec": {
      "display_name": "Python 3",
      "language": "python",
      "name": "python3"
    },
    "language_info": {
      "codemirror_mode": {
        "name": "ipython",
        "version": 3
      },
      "file_extension": ".py",
      "mimetype": "text/x-python",
      "name": "python",
      "nbconvert_exporter": "python",
      "pygments_lexer": "ipython3",
      "version": "3.6.6"
    },
    "colab": {
      "name": "Activity_3_Exploring_Bitcoin_Dataset.ipynb",
      "provenance": [],
      "toc_visible": true,
      "include_colab_link": true
    }
  },
  "cells": [
    {
      "cell_type": "markdown",
      "metadata": {
        "id": "view-in-github",
        "colab_type": "text"
      },
      "source": [
        "<a href=\"https://colab.research.google.com/github/gourab337/Technocolab_DL_Internship/blob/main/Activity_3_Exploring_Bitcoin_Dataset.ipynb\" target=\"_parent\"><img src=\"https://colab.research.google.com/assets/colab-badge.svg\" alt=\"Open In Colab\"/></a>"
      ]
    },
    {
      "cell_type": "code",
      "metadata": {
        "id": "HUY4wusb6QS0",
        "outputId": "1b76f8b6-74e8-4180-9e89-a1ac25f36b62",
        "colab": {
          "base_uri": "https://localhost:8080/",
          "height": 734
        }
      },
      "source": [
        "pip install tensorflow==1.14"
      ],
      "execution_count": 2,
      "outputs": [
        {
          "output_type": "stream",
          "text": [
            "Collecting tensorflow==1.14\n",
            "\u001b[?25l  Downloading https://files.pythonhosted.org/packages/de/f0/96fb2e0412ae9692dbf400e5b04432885f677ad6241c088ccc5fe7724d69/tensorflow-1.14.0-cp36-cp36m-manylinux1_x86_64.whl (109.2MB)\n",
            "\u001b[K     |████████████████████████████████| 109.2MB 87kB/s \n",
            "\u001b[?25hRequirement already satisfied: wheel>=0.26 in /usr/local/lib/python3.6/dist-packages (from tensorflow==1.14) (0.35.1)\n",
            "Requirement already satisfied: numpy<2.0,>=1.14.5 in /usr/local/lib/python3.6/dist-packages (from tensorflow==1.14) (1.18.5)\n",
            "Requirement already satisfied: six>=1.10.0 in /usr/local/lib/python3.6/dist-packages (from tensorflow==1.14) (1.15.0)\n",
            "Requirement already satisfied: wrapt>=1.11.1 in /usr/local/lib/python3.6/dist-packages (from tensorflow==1.14) (1.12.1)\n",
            "Requirement already satisfied: google-pasta>=0.1.6 in /usr/local/lib/python3.6/dist-packages (from tensorflow==1.14) (0.2.0)\n",
            "Requirement already satisfied: protobuf>=3.6.1 in /usr/local/lib/python3.6/dist-packages (from tensorflow==1.14) (3.12.4)\n",
            "Requirement already satisfied: keras-preprocessing>=1.0.5 in /usr/local/lib/python3.6/dist-packages (from tensorflow==1.14) (1.1.2)\n",
            "Requirement already satisfied: grpcio>=1.8.6 in /usr/local/lib/python3.6/dist-packages (from tensorflow==1.14) (1.32.0)\n",
            "Requirement already satisfied: gast>=0.2.0 in /usr/local/lib/python3.6/dist-packages (from tensorflow==1.14) (0.3.3)\n",
            "Requirement already satisfied: absl-py>=0.7.0 in /usr/local/lib/python3.6/dist-packages (from tensorflow==1.14) (0.10.0)\n",
            "Collecting keras-applications>=1.0.6\n",
            "\u001b[?25l  Downloading https://files.pythonhosted.org/packages/71/e3/19762fdfc62877ae9102edf6342d71b28fbfd9dea3d2f96a882ce099b03f/Keras_Applications-1.0.8-py3-none-any.whl (50kB)\n",
            "\u001b[K     |████████████████████████████████| 51kB 7.4MB/s \n",
            "\u001b[?25hCollecting tensorboard<1.15.0,>=1.14.0\n",
            "\u001b[?25l  Downloading https://files.pythonhosted.org/packages/91/2d/2ed263449a078cd9c8a9ba50ebd50123adf1f8cfbea1492f9084169b89d9/tensorboard-1.14.0-py3-none-any.whl (3.1MB)\n",
            "\u001b[K     |████████████████████████████████| 3.2MB 48.9MB/s \n",
            "\u001b[?25hRequirement already satisfied: termcolor>=1.1.0 in /usr/local/lib/python3.6/dist-packages (from tensorflow==1.14) (1.1.0)\n",
            "Collecting tensorflow-estimator<1.15.0rc0,>=1.14.0rc0\n",
            "\u001b[?25l  Downloading https://files.pythonhosted.org/packages/3c/d5/21860a5b11caf0678fbc8319341b0ae21a07156911132e0e71bffed0510d/tensorflow_estimator-1.14.0-py2.py3-none-any.whl (488kB)\n",
            "\u001b[K     |████████████████████████████████| 491kB 45.6MB/s \n",
            "\u001b[?25hRequirement already satisfied: astor>=0.6.0 in /usr/local/lib/python3.6/dist-packages (from tensorflow==1.14) (0.8.1)\n",
            "Requirement already satisfied: setuptools in /usr/local/lib/python3.6/dist-packages (from protobuf>=3.6.1->tensorflow==1.14) (50.3.0)\n",
            "Requirement already satisfied: h5py in /usr/local/lib/python3.6/dist-packages (from keras-applications>=1.0.6->tensorflow==1.14) (2.10.0)\n",
            "Requirement already satisfied: werkzeug>=0.11.15 in /usr/local/lib/python3.6/dist-packages (from tensorboard<1.15.0,>=1.14.0->tensorflow==1.14) (1.0.1)\n",
            "Requirement already satisfied: markdown>=2.6.8 in /usr/local/lib/python3.6/dist-packages (from tensorboard<1.15.0,>=1.14.0->tensorflow==1.14) (3.2.2)\n",
            "Requirement already satisfied: importlib-metadata; python_version < \"3.8\" in /usr/local/lib/python3.6/dist-packages (from markdown>=2.6.8->tensorboard<1.15.0,>=1.14.0->tensorflow==1.14) (2.0.0)\n",
            "Requirement already satisfied: zipp>=0.5 in /usr/local/lib/python3.6/dist-packages (from importlib-metadata; python_version < \"3.8\"->markdown>=2.6.8->tensorboard<1.15.0,>=1.14.0->tensorflow==1.14) (3.2.0)\n",
            "Installing collected packages: keras-applications, tensorboard, tensorflow-estimator, tensorflow\n",
            "  Found existing installation: tensorboard 2.3.0\n",
            "    Uninstalling tensorboard-2.3.0:\n",
            "      Successfully uninstalled tensorboard-2.3.0\n",
            "  Found existing installation: tensorflow-estimator 2.3.0\n",
            "    Uninstalling tensorflow-estimator-2.3.0:\n",
            "      Successfully uninstalled tensorflow-estimator-2.3.0\n",
            "  Found existing installation: tensorflow 2.3.0\n",
            "    Uninstalling tensorflow-2.3.0:\n",
            "      Successfully uninstalled tensorflow-2.3.0\n",
            "Successfully installed keras-applications-1.0.8 tensorboard-1.14.0 tensorflow-1.14.0 tensorflow-estimator-1.14.0\n"
          ],
          "name": "stdout"
        }
      ]
    },
    {
      "cell_type": "markdown",
      "metadata": {
        "id": "Ncd9crv44hBh"
      },
      "source": [
        "# Activity 3: Exploring Bitcoin Dataset\n",
        "We explore the Bitcoin dataset in this Jupyter Notebook."
      ]
    },
    {
      "cell_type": "markdown",
      "metadata": {
        "id": "I17rS7l64hBj"
      },
      "source": [
        "## Introduction"
      ]
    },
    {
      "cell_type": "code",
      "metadata": {
        "id": "nWBGYyYA4hBj",
        "outputId": "bb310bd1-94c3-4128-d3cb-26a691267e28",
        "colab": {
          "base_uri": "https://localhost:8080/",
          "height": 34
        }
      },
      "source": [
        "%autosave 5\n",
        "\n",
        "#  Import required libraries\n",
        "import numpy as np\n",
        "import pandas as pd\n",
        "%matplotlib inline\n",
        "\n",
        "#  Import our custom set of normalization functions\n",
        "import normalization #changed name to normalization"
      ],
      "execution_count": 5,
      "outputs": [
        {
          "output_type": "display_data",
          "data": {
            "application/javascript": [
              "IPython.notebook.set_autosave_interval(5000)"
            ]
          },
          "metadata": {
            "tags": []
          }
        },
        {
          "output_type": "stream",
          "text": [
            "Autosaving every 5 seconds\n"
          ],
          "name": "stdout"
        }
      ]
    },
    {
      "cell_type": "code",
      "metadata": {
        "id": "6IAAJOXL4hBo",
        "outputId": "9a6a328d-7c29-434f-bc1c-b76b5ae3891d",
        "colab": {
          "base_uri": "https://localhost:8080/",
          "height": 309
        }
      },
      "source": [
        "#  Load the dataset as a pandas DataFrame\n",
        "bitcoin = pd.read_csv('bitcoin_historical_prices.csv')\n",
        "\n",
        "#  Change `date` column to datetime type\n",
        "bitcoin['date'] = pd.to_datetime(bitcoin['date'])\n",
        "bitcoin.head()"
      ],
      "execution_count": 6,
      "outputs": [
        {
          "output_type": "execute_result",
          "data": {
            "text/html": [
              "<div>\n",
              "<style scoped>\n",
              "    .dataframe tbody tr th:only-of-type {\n",
              "        vertical-align: middle;\n",
              "    }\n",
              "\n",
              "    .dataframe tbody tr th {\n",
              "        vertical-align: top;\n",
              "    }\n",
              "\n",
              "    .dataframe thead th {\n",
              "        text-align: right;\n",
              "    }\n",
              "</style>\n",
              "<table border=\"1\" class=\"dataframe\">\n",
              "  <thead>\n",
              "    <tr style=\"text-align: right;\">\n",
              "      <th></th>\n",
              "      <th>date</th>\n",
              "      <th>iso_week</th>\n",
              "      <th>open</th>\n",
              "      <th>high</th>\n",
              "      <th>low</th>\n",
              "      <th>close</th>\n",
              "      <th>volume</th>\n",
              "      <th>market_capitalization</th>\n",
              "    </tr>\n",
              "  </thead>\n",
              "  <tbody>\n",
              "    <tr>\n",
              "      <th>0</th>\n",
              "      <td>2013-04-28</td>\n",
              "      <td>2013-17</td>\n",
              "      <td>135.30</td>\n",
              "      <td>135.98</td>\n",
              "      <td>132.10</td>\n",
              "      <td>134.21</td>\n",
              "      <td>NaN</td>\n",
              "      <td>1.500520e+09</td>\n",
              "    </tr>\n",
              "    <tr>\n",
              "      <th>1</th>\n",
              "      <td>2013-04-29</td>\n",
              "      <td>2013-17</td>\n",
              "      <td>134.44</td>\n",
              "      <td>147.49</td>\n",
              "      <td>134.00</td>\n",
              "      <td>144.54</td>\n",
              "      <td>NaN</td>\n",
              "      <td>1.491160e+09</td>\n",
              "    </tr>\n",
              "    <tr>\n",
              "      <th>2</th>\n",
              "      <td>2013-04-30</td>\n",
              "      <td>2013-17</td>\n",
              "      <td>144.00</td>\n",
              "      <td>146.93</td>\n",
              "      <td>134.05</td>\n",
              "      <td>139.00</td>\n",
              "      <td>NaN</td>\n",
              "      <td>1.597780e+09</td>\n",
              "    </tr>\n",
              "    <tr>\n",
              "      <th>3</th>\n",
              "      <td>2013-05-01</td>\n",
              "      <td>2013-17</td>\n",
              "      <td>139.00</td>\n",
              "      <td>139.89</td>\n",
              "      <td>107.72</td>\n",
              "      <td>116.99</td>\n",
              "      <td>NaN</td>\n",
              "      <td>1.542820e+09</td>\n",
              "    </tr>\n",
              "    <tr>\n",
              "      <th>4</th>\n",
              "      <td>2013-05-02</td>\n",
              "      <td>2013-17</td>\n",
              "      <td>116.38</td>\n",
              "      <td>125.60</td>\n",
              "      <td>92.28</td>\n",
              "      <td>105.21</td>\n",
              "      <td>NaN</td>\n",
              "      <td>1.292190e+09</td>\n",
              "    </tr>\n",
              "  </tbody>\n",
              "</table>\n",
              "</div>"
            ],
            "text/plain": [
              "        date iso_week    open  ...   close  volume  market_capitalization\n",
              "0 2013-04-28  2013-17  135.30  ...  134.21     NaN           1.500520e+09\n",
              "1 2013-04-29  2013-17  134.44  ...  144.54     NaN           1.491160e+09\n",
              "2 2013-04-30  2013-17  144.00  ...  139.00     NaN           1.597780e+09\n",
              "3 2013-05-01  2013-17  139.00  ...  116.99     NaN           1.542820e+09\n",
              "4 2013-05-02  2013-17  116.38  ...  105.21     NaN           1.292190e+09\n",
              "\n",
              "[5 rows x 8 columns]"
            ]
          },
          "metadata": {
            "tags": []
          },
          "execution_count": 6
        }
      ]
    },
    {
      "cell_type": "markdown",
      "metadata": {
        "id": "L8WgCY-d4hBr"
      },
      "source": [
        "## Exploration"
      ]
    },
    {
      "cell_type": "code",
      "metadata": {
        "id": "5IZFs2yY4hBs",
        "outputId": "e7413eff-709b-416c-c166-049afad6a7ff",
        "colab": {
          "base_uri": "https://localhost:8080/",
          "height": 216
        }
      },
      "source": [
        "#  Time-series plot for `close` variable\n",
        "bitcoin.set_index('date')['close'].plot(\n",
        "    linewidth=2,\n",
        "    figsize=(14, 4),\n",
        "    color='#d35400');"
      ],
      "execution_count": 7,
      "outputs": [
        {
          "output_type": "display_data",
          "data": {
            "image/png": "[encoded data removed]",
            "text/plain": [
              "<Figure size 1008x288 with 1 Axes>"
            ]
          },
          "metadata": {
            "tags": [],
            "needs_background": "light"
          }
        }
      ]
    },
    {
      "cell_type": "code",
      "metadata": {
        "eid": "c31c06",
        "id": "XpCXsmjV4hBv"
      },
      "source": [
        "#  TASK:\n",
        "#  Make a time-series plot for `volume` variable here.\n",
        "#  How different is the volume data compared to \n",
        "#  the closing prices every day?\n",
        "#\n"
      ],
      "execution_count": 8,
      "outputs": []
    },
    {
      "cell_type": "markdown",
      "metadata": {
        "id": "kNz__6Ke4hBy"
      },
      "source": [
        "## Preparing Dataset for Model"
      ]
    },
    {
      "cell_type": "code",
      "metadata": {
        "id": "DnLjWRUW4hBy"
      },
      "source": [
        "# Filter for newer or equal to Jan 1, 2016\n",
        "bitcoin_recent = bitcoin[bitcoin['date'] >= '2016-01-01']"
      ],
      "execution_count": 9,
      "outputs": []
    },
    {
      "cell_type": "code",
      "metadata": {
        "id": "TgCPtOER4hB1"
      },
      "source": [
        "#  Keep only the `close` and `volume` variables\n",
        "bitcoin_recent = bitcoin_recent[['date', 'iso_week', 'close', 'volume']]"
      ],
      "execution_count": 10,
      "outputs": []
    },
    {
      "cell_type": "code",
      "metadata": {
        "id": "1R8vy4ko4hB4"
      },
      "source": [
        "#  Normalize our data for the the `close` variable.\n",
        "bitcoin_recent['close_point_relative_normalization'] = bitcoin_recent.groupby('iso_week')['close'].apply(\n",
        "    lambda x: normalization.point_relative_normalization(x))  # change normalizations to normalization to suit file name change"
      ],
      "execution_count": 13,
      "outputs": []
    },
    {
      "cell_type": "code",
      "metadata": {
        "id": "gns86TyC4hB6",
        "outputId": "c93c9182-f2bf-41ce-ab1c-be26fecc9d03",
        "colab": {
          "base_uri": "https://localhost:8080/",
          "height": 225
        }
      },
      "source": [
        "#  Plot for normalized variable `close_point_relative_normalization`\n",
        "bitcoin_recent.set_index('date')['close_point_relative_normalization'].plot(figsize=(14, 4), color='#d35400');"
      ],
      "execution_count": 14,
      "outputs": [
        {
          "output_type": "display_data",
          "data": {
            "image/png": "[encoded data removed]",
            "text/plain": [
              "<Figure size 1008x288 with 1 Axes>"
            ]
          },
          "metadata": {
            "tags": [],
            "needs_background": "light"
          }
        }
      ]
    },
    {
      "cell_type": "code",
      "metadata": {
        "eid": "ec238b",
        "id": "mg_ZGUAf4hB8"
      },
      "source": [
        "#  TASK:\n",
        "#  Normalize our data for the the `volume` variable.\n",
        "#  Use the name: `volume_point_relative_normalization`\n",
        "#\n"
      ],
      "execution_count": 15,
      "outputs": []
    },
    {
      "cell_type": "code",
      "metadata": {
        "eid": "3e2cbc",
        "id": "dA0hgLIa4hB-"
      },
      "source": [
        "#  TASK:\n",
        "#  Plot for normalized variable `volume_point_relative_normalization` \n",
        "#  in the same way as above\n",
        "#\n"
      ],
      "execution_count": 16,
      "outputs": []
    },
    {
      "cell_type": "markdown",
      "metadata": {
        "id": "XxYAB8-54hCA"
      },
      "source": [
        "## Training and Test Sets"
      ]
    },
    {
      "cell_type": "code",
      "metadata": {
        "id": "Gmhh-dGP4hCB",
        "outputId": "a3d116cd-3c73-4f8a-e2d9-92278c6f7fe3",
        "colab": {
          "base_uri": "https://localhost:8080/",
          "height": 272
        }
      },
      "source": [
        "#  Use the last 20% of available weeks as a test set and the first 80% as a training set.\n",
        "boundary = int(0.8 * bitcoin_recent['iso_week'].nunique())\n",
        "train_set_weeks = bitcoin_recent['iso_week'].unique()[0:boundary]\n",
        "test_set_weeks = bitcoin_recent[~bitcoin_recent['iso_week'].isin(train_set_weeks)]['iso_week'].unique()\n",
        "\n",
        "print(train_set_weeks)\n",
        "print(test_set_weeks)"
      ],
      "execution_count": 27,
      "outputs": [
        {
          "output_type": "stream",
          "text": [
            "['2016-00' '2016-01' '2016-02' '2016-03' '2016-04' '2016-05' '2016-06'\n",
            " '2016-07' '2016-08' '2016-09' '2016-10' '2016-11' '2016-12' '2016-13'\n",
            " '2016-14' '2016-15' '2016-16' '2016-17' '2016-18' '2016-19' '2016-20'\n",
            " '2016-21' '2016-22' '2016-23' '2016-24' '2016-25' '2016-26' '2016-27'\n",
            " '2016-28' '2016-29' '2016-30' '2016-31' '2016-32' '2016-33' '2016-34'\n",
            " '2016-35' '2016-36' '2016-37' '2016-38' '2016-39' '2016-40' '2016-41'\n",
            " '2016-42' '2016-43' '2016-44' '2016-45' '2016-46' '2016-47' '2016-48'\n",
            " '2016-49' '2016-50' '2016-51' '2016-52' '2017-01' '2017-02' '2017-03'\n",
            " '2017-04' '2017-05' '2017-06' '2017-07' '2017-08' '2017-09' '2017-10'\n",
            " '2017-11' '2017-12' '2017-13' '2017-14' '2017-15' '2017-16' '2017-17'\n",
            " '2017-18' '2017-19' '2017-20' '2017-21' '2017-22' '2017-23' '2017-24'\n",
            " '2017-25']\n",
            "['2017-26' '2017-27' '2017-28' '2017-29' '2017-30' '2017-31' '2017-32'\n",
            " '2017-33' '2017-34' '2017-35' '2017-36' '2017-37' '2017-38' '2017-39'\n",
            " '2017-40' '2017-41' '2017-42' '2017-43' '2017-44' '2017-45']\n"
          ],
          "name": "stdout"
        }
      ]
    },
    {
      "cell_type": "code",
      "metadata": {
        "id": "yeTsU_Eg4hCD"
      },
      "source": [
        "#  Create train dataset\n",
        "train_dataset = bitcoin_recent[bitcoin_recent['iso_week'].isin(train_set_weeks)]"
      ],
      "execution_count": 28,
      "outputs": []
    },
    {
      "cell_type": "code",
      "metadata": {
        "eid": "1b210e",
        "id": "TOXD9EVn4hCF"
      },
      "source": [
        "#  TASK:\n",
        "#  Create test dataset by performing the same operation as above.\n",
        "#  Use the `test_set_weeks` list to create the variable `test_dataset`.\n",
        "#\n",
        "#  Create train dataset\n",
        "test_dataset = bitcoin_recent[bitcoin_recent['iso_week'].isin(test_set_weeks)]"
      ],
      "execution_count": 29,
      "outputs": []
    },
    {
      "cell_type": "markdown",
      "metadata": {
        "id": "sO0FzxLh4hCH"
      },
      "source": [
        "## Storing Output"
      ]
    },
    {
      "cell_type": "code",
      "metadata": {
        "id": "SWSv5s9O4hCI"
      },
      "source": [
        "bitcoin_recent.to_csv('bitcoin_recent.csv', index=False)\n",
        "train_dataset.to_csv('train_dataset.csv', index=False)\n",
        "test_dataset.to_csv('test_dataset.csv', index=False)"
      ],
      "execution_count": 30,
      "outputs": []
    }
  ]
}